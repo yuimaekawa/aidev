{
  "cells": [
    {
      "cell_type": "markdown",
      "metadata": {
        "id": "5XrEOJUt0Ltk"
      },
      "source": [
        "# 課題1：住宅価格のデータの前処理\n",
        "\n",
        "ここではデータの前処理について理解いただくための課題を用意しました。\n",
        "\n",
        "ここでは住宅価格のデータセットを利用します。今回の住宅価格のデータは、Colabのランタイムに標準でインストールされている「カリフォルニア州の住宅価格」ではなく、以下のページで配布されている「アイオワ州の住宅価格」のデータを利用します。\n",
        "\n",
        "このデータは、Dean De Cockという統計学者の論文が出典元とされていて、以下のサイトでCSVファイルの配布と各列の説明がされています。\n",
        "\n",
        "[Housing prices in Ames, Iowa](https://www.openintro.org/data/index.php?data=ames)\n",
        "\n",
        "各セルに入っているコメントの下に、実行するコードを記入してください。また、作業内容の一部にPandasの公式ドキュメントへのリンクを追記していますので、わからない部分がありましたら参照してください。\n",
        "\n",
        "**注意点：**\n",
        "\n",
        "- 列名にドット（`.`）が入っているとPandasの処理中にエラーが発生するため、元データの列名から `.` を削除しています\n",
        "- PID列のみ、元データから削除しています"
      ]
    },
    {
      "cell_type": "markdown",
      "metadata": {
        "id": "ypCHEX2Q0Ltn"
      },
      "source": [
        "## 1. 必要なライブラリの読み込み"
      ]
    },
    {
      "cell_type": "code",
      "execution_count": 1,
      "metadata": {
        "id": "Uoi9iKLL0Ltn"
      },
      "outputs": [],
      "source": [
        "# 必要なライブラリの読み込み（変更しないでください）\n",
        "import matplotlib\n",
        "import matplotlib.pyplot as plt\n",
        "import numpy as np\n",
        "import pandas as pd"
      ]
    },
    {
      "cell_type": "markdown",
      "metadata": {
        "id": "HbXgJsJC0Ltp"
      },
      "source": [
        "## 2. データの読み込み\n",
        "\n",
        "CSVファイル *iowa_ames_housing_price.csv* を読み込み、内容を確認します。"
      ]
    },
    {
      "cell_type": "code",
      "execution_count": 2,
      "metadata": {
        "id": "mmf5J5OM2LJy"
      },
      "outputs": [],
      "source": [
        "# データを変数datasetに読み込む\n"
      ]
    },
    {
      "cell_type": "code",
      "execution_count": null,
      "metadata": {
        "id": "hFfPzXBK0Ltp"
      },
      "outputs": [],
      "source": [
        "# データの最初の5行を表示\n"
      ]
    },
    {
      "cell_type": "markdown",
      "metadata": {
        "id": "ChiL-Cvx0Ltq"
      },
      "source": [
        "全データの行数と列数を取得します。DataFrameの`shape` プロパティを参照します。\n",
        "\n",
        "参照：https://pandas.pydata.org/docs/reference/api/pandas.DataFrame.shape.html"
      ]
    },
    {
      "cell_type": "code",
      "execution_count": null,
      "metadata": {
        "id": "h52P9Nem0Ltq"
      },
      "outputs": [],
      "source": [
        "# データの行数、列数を表示\n"
      ]
    },
    {
      "cell_type": "markdown",
      "metadata": {
        "id": "0YfIRt0y0Ltr"
      },
      "source": [
        "## 3. 要約統計量を出力する\n",
        "\n",
        "データ数、平均や中央値、標準偏差などの統計量を確認することで、データへの理解を深めます。\n",
        "\n",
        "DataFrameの `describe()` を使うことで、様々な統計量の情報を要約として表示されます。\n",
        "\n",
        "参考：https://pandas.pydata.org/docs/reference/api/pandas.DataFrame.describe.html"
      ]
    },
    {
      "cell_type": "code",
      "execution_count": null,
      "metadata": {
        "id": "-psXciDb0Ltr"
      },
      "outputs": [],
      "source": [
        "# 要約統計量を表示\n"
      ]
    },
    {
      "cell_type": "markdown",
      "metadata": {
        "id": "ELUkK-KD0Ltr"
      },
      "source": [
        "## 4. 基本的なデータの操作"
      ]
    },
    {
      "cell_type": "markdown",
      "metadata": {
        "id": "TzclIU3d0Lts"
      },
      "source": [
        "データの抽出・列の分割について学びます。"
      ]
    },
    {
      "cell_type": "markdown",
      "metadata": {
        "id": "Mj8Ld4oY0Lts"
      },
      "source": [
        "### インデックスを用いた行の指定"
      ]
    },
    {
      "cell_type": "code",
      "execution_count": null,
      "metadata": {
        "id": "cexN3ylq0Lts"
      },
      "outputs": [],
      "source": [
        "# インデックス番号0から10行分抽出\n"
      ]
    },
    {
      "cell_type": "code",
      "execution_count": null,
      "metadata": {
        "id": "F3Jjzbto0Lts"
      },
      "outputs": [],
      "source": [
        "# 最初の10行だけ抽出し、「price」と「LotArea」の列を表示\n"
      ]
    },
    {
      "cell_type": "markdown",
      "metadata": {
        "id": "wrlGmCVk0Ltt"
      },
      "source": [
        "### カラム間の演算\n",
        "\n",
        "PandasのDataFrameでは、列同士の四則演算、ならびに新しい列の追加ができます。\n",
        "\n",
        "たとえば、`df` というDataFrameの変数があり、中に `a`,`b` というカラムが存在するとき、`df['c'] = df['a'] + df['b']` と記述することで、`a`列と`b`列の加算結果を `c` という新しい列として `df` に追加してくれます。"
      ]
    },
    {
      "cell_type": "code",
      "execution_count": null,
      "metadata": {
        "id": "ckJCB8t_0Ltt"
      },
      "outputs": [],
      "source": [
        "# 「X1stFlrSF」と「X2ndFlrSF」を合計した「XFlrSF_total」を新たな列としてdatasetに加える\n"
      ]
    },
    {
      "cell_type": "code",
      "execution_count": null,
      "metadata": {
        "id": "r-JXiZ020Ltt"
      },
      "outputs": [],
      "source": [
        "# datasetからloc関数を使用して「X1stFlrSF」と「X2ndFlrSF」、「XFlrSF_total」を先頭から5行分表示し、正しく追加されていることを確認する\n"
      ]
    },
    {
      "cell_type": "markdown",
      "metadata": {
        "id": "xmrC8Tm60Ltt"
      },
      "source": [
        " ### ダミー変数の作成\n",
        "\n",
        "列 `SaleType` は `WD`, `New`, `COD` などで構成されたカテゴリーデータです。 `get_dummies()` 関数を使用してダミー変数に変換しましょう。\n",
        "\n",
        "参考：https://pandas.pydata.org/docs/reference/api/pandas.get_dummies.html"
      ]
    },
    {
      "cell_type": "code",
      "execution_count": null,
      "metadata": {
        "id": "bP6R1eaH0Ltt"
      },
      "outputs": [],
      "source": [
        "# 列'SaleType'をダミー変数に展開したものを変数 dataset に上書きします\n"
      ]
    },
    {
      "cell_type": "code",
      "execution_count": null,
      "metadata": {
        "id": "3thUzxti0Ltu"
      },
      "outputs": [],
      "source": [
        "# ダミー変数が作成されていることを確認します　(datasetの最初の5行だけ出力)\n"
      ]
    },
    {
      "cell_type": "markdown",
      "metadata": {
        "id": "D0YJC3yO0Ltu"
      },
      "source": [
        "### フィルタリング\n",
        "\n",
        "DataFrameの `query()` を使いフィルタリングを行ないましょう。\n",
        "\n",
        "参考：https://pandas.pydata.org/docs/reference/api/pandas.DataFrame.query.html"
      ]
    },
    {
      "cell_type": "code",
      "execution_count": null,
      "metadata": {
        "id": "dGP7i5xG0Ltu"
      },
      "outputs": [],
      "source": [
        "# 'YearBuilt'が2000以降の物件のみを抽出し、最初の5件のみ表示\n"
      ]
    },
    {
      "cell_type": "markdown",
      "metadata": {
        "id": "nRZxQHro0Ltu"
      },
      "source": [
        "`'LotArea >= 15000 and MSSubClass >= 50'` のように複数の条件を指定できます。"
      ]
    },
    {
      "cell_type": "code",
      "execution_count": null,
      "metadata": {
        "id": "yKLtolbG0Ltv"
      },
      "outputs": [],
      "source": [
        "# 'YearBuilt'が2000以降、'GarageCars'が3以上の物件を抽出し、最初の5件のみ表示\n"
      ]
    },
    {
      "cell_type": "markdown",
      "metadata": {
        "id": "Lko2Z0IQ0Ltv"
      },
      "source": [
        "## 5. データの可視化"
      ]
    },
    {
      "cell_type": "markdown",
      "metadata": {
        "id": "D33klPt20Ltv"
      },
      "source": [
        "データを理解するには要約統計量や抽出したデータを確認するだけでは不充分であり、可視化が必要です。"
      ]
    },
    {
      "cell_type": "markdown",
      "metadata": {
        "id": "FMD7bHO70Ltv"
      },
      "source": [
        "### ヒストグラム\n",
        "\n",
        "連続変数の分布を確認する際に有効です。DataFrameの `hist()` が使えます。\n",
        "\n",
        "参考：https://pandas.pydata.org/docs/reference/api/pandas.DataFrame.hist.html"
      ]
    },
    {
      "cell_type": "code",
      "execution_count": null,
      "metadata": {
        "id": "0AOSXsDe0Ltv"
      },
      "outputs": [],
      "source": [
        "# datasetの'price'をヒストグラムで表示（DataFrameのhist()を利用する）\n"
      ]
    },
    {
      "cell_type": "markdown",
      "metadata": {
        "id": "PqMDIyFj0Ltw"
      },
      "source": [
        "### 散布図\n",
        "\n",
        "2つの変数の関係性を確認する際に有効です。DataFrameの `plot()` が使えます。\n",
        "\n",
        "参考：https://pandas.pydata.org/docs/reference/api/pandas.DataFrame.plot.html"
      ]
    },
    {
      "cell_type": "code",
      "execution_count": null,
      "metadata": {
        "id": "0R13auyN0Ltw"
      },
      "outputs": [],
      "source": [
        "# datasetの'LotArea'と'price'を散布図で表示（DataFrameのplot()を利用する）\n"
      ]
    },
    {
      "cell_type": "markdown",
      "metadata": {
        "id": "YN0EEEfi0Ltw"
      },
      "source": [
        "### 棒グラフ\n",
        "\n",
        "大小や増減を比較する際に有効です。DataFrameの `plot.bar()` が使えます。\n",
        "\n",
        "参考：https://pandas.pydata.org/docs/reference/api/pandas.DataFrame.plot.bar.html"
      ]
    },
    {
      "cell_type": "code",
      "execution_count": null,
      "metadata": {
        "id": "xDKTlBgi0Ltw"
      },
      "outputs": [],
      "source": [
        "#'price'のSaleConditionごとの平均を変数 price_by_condition に格納\n"
      ]
    },
    {
      "cell_type": "code",
      "execution_count": null,
      "metadata": {
        "id": "3FZXWIZ96vDi"
      },
      "outputs": [],
      "source": [
        "# price_by_conditionが持つ、棒グラフを表示する命令を実行\n"
      ]
    },
    {
      "cell_type": "markdown",
      "metadata": {
        "id": "nhYD3-q60Ltx"
      },
      "source": [
        "### 箱ヒゲ図 (Boxplot)\n",
        "\n",
        "複数の変数の分布を比較する際に有効です（棒グラフでは平均の比較はできますが、分布全体の比較はできません)。\n",
        "\n",
        "DataFrameの `boxplot()` が使えます。\n",
        "\n",
        "参考：https://pandas.pydata.org/docs/reference/api/pandas.DataFrame.boxplot.html"
      ]
    },
    {
      "cell_type": "code",
      "execution_count": null,
      "metadata": {
        "id": "hzyiHBaq0Ltx"
      },
      "outputs": [],
      "source": [
        "# datasetの'SaleCondition'ごとに'price'をDataFrameのboxplotで表示\n"
      ]
    },
    {
      "cell_type": "markdown",
      "metadata": {
        "id": "L1M--5JJ0Ltx"
      },
      "source": [
        "## 6. 欠損値の確認\n",
        "\n",
        "ある列が欠損値を持っているかどうかは Pandas の `isnull()` でわかります。特定の列の欠損値を知りたい場合は `pd.isnull(dataset['LotFrontage'])` のように記述します。また、`.sum()` をつなげることで、その列で欠損値を持つ行数がわかります。\n",
        "\n",
        "参考：https://pandas.pydata.org/docs/reference/api/pandas.isnull.html"
      ]
    },
    {
      "cell_type": "code",
      "execution_count": null,
      "metadata": {
        "id": "STACo5MN0Ltx"
      },
      "outputs": [],
      "source": [
        "# すべての列がそれぞれ、欠損値が何行あるかを取得\n"
      ]
    }
  ],
  "metadata": {
    "colab": {
      "provenance": []
    },
    "kernelspec": {
      "display_name": ".venv",
      "language": "python",
      "name": "python3"
    },
    "language_info": {
      "codemirror_mode": {
        "name": "ipython",
        "version": 3
      },
      "file_extension": ".py",
      "mimetype": "text/x-python",
      "name": "python",
      "nbconvert_exporter": "python",
      "pygments_lexer": "ipython3",
      "version": "3.12.10"
    }
  },
  "nbformat": 4,
  "nbformat_minor": 0
}
