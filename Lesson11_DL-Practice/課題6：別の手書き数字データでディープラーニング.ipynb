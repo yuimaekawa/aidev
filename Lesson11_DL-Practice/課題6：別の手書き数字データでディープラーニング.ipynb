{
  "cells": [
    {
      "cell_type": "markdown",
      "metadata": {
        "id": "mJz-JeQhbVrw"
      },
      "source": [
        "# 課題6: ディープラーニングのモデルを構築しよう\n",
        "\n",
        "今回の課題では手書き数字の認識を、CNNを用いて行います。ただし本課題では、レッスン本編で用いたscikit-learnのものではなく、Kerasのデータセットに含まれている、より大きいサイズの手書き数字データで課題を進めていただきます。\n",
        "\n",
        "下記にKerasから手書き数字のデータセットをダウンロードするコードが記載されています。このデータを用いてディープラーニングのモデルを構築してください。\n",
        "\n",
        "今までのレッスンで学んだ内容を踏まえ、各セルにコードを埋めていってください。\n",
        "\n",
        "（※`変更しないでください`と書かれたセルには、コードの追記変更をしないでください）"
      ]
    },
    {
      "cell_type": "markdown",
      "metadata": {
        "id": "KgH-udyTcJaB"
      },
      "source": [
        "## 1. ライブラリのimport"
      ]
    },
    {
      "cell_type": "code",
      "execution_count": 1,
      "metadata": {
        "id": "Wx_-Na3Lb8rs"
      },
      "outputs": [],
      "source": [
        "# （変更しないでください）\n",
        "\n",
        "# 必要なライブラリのimport\n",
        "import numpy as np\n",
        "import matplotlib.pyplot as plt\n",
        "import pandas as pd\n",
        "\n",
        "# TensorFlow\n",
        "import tensorflow as tf\n",
        "\n",
        "# データの分割\n",
        "from sklearn.model_selection import train_test_split\n",
        "\n",
        "# DataFrameですべての列を表示する設定\n",
        "pd.options.display.max_columns = None"
      ]
    },
    {
      "cell_type": "markdown",
      "metadata": {
        "id": "1dewOfwccbz1"
      },
      "source": [
        "## 2. データの読み込み"
      ]
    },
    {
      "cell_type": "markdown",
      "metadata": {
        "id": "lMIOnrNfcgJT"
      },
      "source": [
        "Kerasのデータセットは、あらかじめTraining setとTest setに分けられています。戻り値はタプルで取得できます。"
      ]
    },
    {
      "cell_type": "code",
      "execution_count": 2,
      "metadata": {
        "id": "MuTk0vJEcIx2"
      },
      "outputs": [],
      "source": [
        "# Kerasに添付されている手書き数字のデータセットをダウンロードして読み込む\n",
        "# （変更しないでください）\n",
        "(X_train, Y_train), (X_test, Y_test) = tf.keras.datasets.mnist.load_data()"
      ]
    },
    {
      "cell_type": "markdown",
      "metadata": {
        "id": "t77ZGAjwcwRq"
      },
      "source": [
        "## 3. データの確認"
      ]
    },
    {
      "cell_type": "code",
      "execution_count": null,
      "metadata": {
        "id": "ch3rGjLVczNo"
      },
      "outputs": [],
      "source": [
        "# X_train, Y_train, X_test, Y_testの形状を確認\n"
      ]
    },
    {
      "cell_type": "code",
      "execution_count": null,
      "metadata": {
        "id": "-5LlP376c4O1"
      },
      "outputs": [],
      "source": [
        "# X_trainの先頭1行を表示\n"
      ]
    },
    {
      "cell_type": "code",
      "execution_count": null,
      "metadata": {
        "id": "aAgrxQNjc8EB"
      },
      "outputs": [],
      "source": [
        "# Y_trainの先頭1行を表示\n"
      ]
    },
    {
      "cell_type": "markdown",
      "metadata": {
        "id": "KwxyGV3AdEc3"
      },
      "source": [
        "データセットを可視化して表示します。"
      ]
    },
    {
      "cell_type": "code",
      "execution_count": null,
      "metadata": {
        "id": "rqsXm0NndAQ0"
      },
      "outputs": [],
      "source": [
        "# （変更しないでください）\n",
        "\n",
        "# 「数字:空のリスト」の辞書を作成する\n",
        "images = {label: [] for label in range(0,10)}\n",
        "\n",
        "# 総イメージ数\n",
        "image_count = 0\n",
        "\n",
        "# それぞれの数字のリストに、説明変数をappendしていく\n",
        "for i in range(0, len(X_train)):\n",
        "    if len(images[Y_train[i]]) < 10:\n",
        "        images[Y_train[i]].append(X_train[i])\n",
        "        image_count += 1\n",
        "        if image_count == 100:\n",
        "            break\n",
        "\n",
        "# 10行10列にグラフを分割\n",
        "fig, ax = plt.subplots(10, 10, figsize=(5, 5))\n",
        "\n",
        "for i in range(10):\n",
        "    # ラベル\n",
        "    ax[i, 0].set_ylabel(i)\n",
        "\n",
        "    for j in range(10):\n",
        "        # 行=i、列=jの位置に画像を描画する\n",
        "        ax[i, j].imshow(images[i][j].reshape(28, 28), cmap='Greys')\n",
        "\n",
        "        # 目盛を表示しない設定\n",
        "        ax[i, j].tick_params(left=False, labelleft=False, bottom=False, labelbottom=False)\n",
        "\n",
        "plt.show()"
      ]
    },
    {
      "cell_type": "markdown",
      "metadata": {
        "id": "VuvBw1RSdl47"
      },
      "source": [
        "## 4. データの前処理"
      ]
    },
    {
      "cell_type": "code",
      "execution_count": null,
      "metadata": {
        "id": "MpXARtqvdiXY"
      },
      "outputs": [],
      "source": [
        "# len関数を使い、X_trainを(X_trainの長さ, 28, 28, 1)にreshapeしてX_train2に代入\n",
        "\n",
        "\n",
        "# len関数を使い、X_testを(X_testの長さ, 28, 28, 1)にreshapeしてX_test2に代入\n"
      ]
    },
    {
      "cell_type": "code",
      "execution_count": null,
      "metadata": {
        "id": "_kS-9nETd0OL"
      },
      "outputs": [],
      "source": [
        "# to_categoricalを使い、Y_trainをカテゴリー変数に展開してY_train2に代入\n",
        "\n",
        "\n",
        "# to_categoricalを使い、Y_testをカテゴリー変数に展開してY_test2に代入\n"
      ]
    },
    {
      "cell_type": "code",
      "execution_count": null,
      "metadata": {
        "id": "SsJOU4xqfD5H"
      },
      "outputs": [],
      "source": [
        "# X_train2, Y_train2, X_test2, Y_test2の形状を確認\n"
      ]
    },
    {
      "cell_type": "code",
      "execution_count": null,
      "metadata": {
        "id": "kCYBVJEffgWQ"
      },
      "outputs": [],
      "source": [
        "# train_test_splitを使い、学習データと検証データに7:3（検証データが3割）で分割する\n",
        "# （詳細：データ(X_train2、Y_train2)を「X_train2, X_valid2, Y_train2, Y_valid2」に分割）\n"
      ]
    },
    {
      "cell_type": "code",
      "execution_count": null,
      "metadata": {
        "id": "ek9qpKL_f3Rb"
      },
      "outputs": [],
      "source": [
        "# X_train2, Y_train2, X_valid2, Y_valid2, X_test2, Y_test2の形状を確認\n"
      ]
    },
    {
      "cell_type": "markdown",
      "metadata": {
        "id": "BKF-9MC7gVaP"
      },
      "source": [
        "## 5. モデルの構築\n",
        "\n",
        "Kerasを使ってモデルを構築してみましょう。以下を条件とします：\n",
        "\n",
        "- CNN(Conv2D)を使うこと\n",
        "- 正解率(accuracy)が50%以上であること\n",
        "\n",
        "場合によっては、学習にものすごく時間がかかる場合もあります。適宜、パラメータ数を調整して行なってください。"
      ]
    },
    {
      "cell_type": "code",
      "execution_count": null,
      "metadata": {
        "id": "899SotmNgTzZ"
      },
      "outputs": [],
      "source": [
        "# （モデルの初期化から構築までのコードを、このセル以下に記述してください）\n"
      ]
    },
    {
      "cell_type": "code",
      "execution_count": null,
      "metadata": {
        "id": "w2V9_anCzjfT"
      },
      "outputs": [],
      "source": [
        "# モデルの構造を表示\n"
      ]
    },
    {
      "cell_type": "code",
      "execution_count": null,
      "metadata": {
        "id": "n_l5CJZjzmFD"
      },
      "outputs": [],
      "source": [
        "%%time\n",
        "# 学習の実施(ものすごく時間がかかる場合もあります)\n"
      ]
    },
    {
      "cell_type": "code",
      "execution_count": null,
      "metadata": {
        "id": "TfBvM2u0z0zl"
      },
      "outputs": [],
      "source": [
        "# 学習過程をグラフ表示\n"
      ]
    },
    {
      "cell_type": "code",
      "execution_count": null,
      "metadata": {
        "id": "vDJLpcPLz2_D"
      },
      "outputs": [],
      "source": [
        "# predictを使い、X_test2をもとに予測した結果を、\n",
        "# カテゴリー変数へ復元してY_pred2に代入\n"
      ]
    },
    {
      "cell_type": "code",
      "execution_count": null,
      "metadata": {
        "id": "WUZDyVywz_nJ"
      },
      "outputs": [],
      "source": [
        "# Y_test2もカテゴリー変数へ復元して、Y_test2_ に代入\n"
      ]
    },
    {
      "cell_type": "code",
      "execution_count": null,
      "metadata": {
        "id": "9eJVx25y0X5Z"
      },
      "outputs": [],
      "source": [
        "# classification_reportを使い、モデルの評価を実施\n"
      ]
    }
  ],
  "metadata": {
    "accelerator": "GPU",
    "colab": {
      "gpuType": "T4",
      "provenance": []
    },
    "kernelspec": {
      "display_name": ".venv",
      "language": "python",
      "name": "python3"
    },
    "language_info": {
      "codemirror_mode": {
        "name": "ipython",
        "version": 3
      },
      "file_extension": ".py",
      "mimetype": "text/x-python",
      "name": "python",
      "nbconvert_exporter": "python",
      "pygments_lexer": "ipython3",
      "version": "3.12.10"
    }
  },
  "nbformat": 4,
  "nbformat_minor": 0
}
