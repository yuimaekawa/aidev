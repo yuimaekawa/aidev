{
  "cells": [
    {
      "cell_type": "markdown",
      "metadata": {
        "id": "_xu0GaP80H0M"
      },
      "source": [
        "# 課題5：映画レビューの評判分析\n",
        "\n",
        "本課題ではAmazon傘下の「IMDb」に投稿された映画のレビュー（英語）を分析し、レビューがPositive（ポジティブ）か、Negative（ネガティブ）かの判別を行ないます。\n",
        "\n",
        "データセットは、以下のサイトで配布されているものを利用します。\n",
        "\n",
        "[Large Movie Review Dataset](https://ai.stanford.edu/%7Eamaas/data/sentiment/)\n",
        "\n",
        "わからない場合は、ここまでのレッスン内容や各種ライブラリの公式ドキュメントを参照しましょう。"
      ]
    },
    {
      "cell_type": "markdown",
      "metadata": {
        "id": "EnNp3e4X1VzH"
      },
      "source": [
        "## 1. 必要なライブラリのimport"
      ]
    },
    {
      "cell_type": "code",
      "execution_count": null,
      "metadata": {
        "id": "NzALkNahz3So"
      },
      "outputs": [],
      "source": [
        "# （変更しないでください）\n",
        "\n",
        "# 必要なライブラリのimport\n",
        "import numpy as np\n",
        "import matplotlib.pyplot as plt\n",
        "import seaborn as sns\n",
        "import pandas as pd\n",
        "\n",
        "# 文章ファイル検索用\n",
        "import glob\n",
        "import collections\n",
        "from sklearn.feature_extraction import DictVectorizer\n",
        "\n",
        "# DataFrameですべての列を表示する設定\n",
        "pd.options.display.max_columns = None\n",
        "\n",
        "# seabornによる装飾を適用する\n",
        "sns.set_theme()"
      ]
    },
    {
      "cell_type": "markdown",
      "metadata": {
        "id": "H3pjMa-V1j3i"
      },
      "source": [
        "## 2. データの読み込み"
      ]
    },
    {
      "cell_type": "code",
      "execution_count": null,
      "metadata": {
        "id": "O7uOIUKE46-c"
      },
      "outputs": [],
      "source": [
        "# ダウンロードした圧縮ファイルを解凍する（変更しないでください）\n",
        "!tar zxvf aclImdb_v1.tar.gz"
      ]
    },
    {
      "cell_type": "markdown",
      "metadata": {
        "id": "jiKcOmlbJQ1r"
      },
      "source": [
        "*./aclImdb* フォルダ内にあるファイルを読み込みます。"
      ]
    },
    {
      "cell_type": "code",
      "execution_count": null,
      "metadata": {
        "id": "hSQxdWMe5Dpm"
      },
      "outputs": [],
      "source": [
        "# trainフォルダのファイル一覧を取得（変更しないでください）\n",
        "train_neg_files = glob.glob(\"./aclImdb/train/neg/*\")\n",
        "train_pos_files = glob.glob(\"./aclImdb/train/pos/*\")\n",
        "\n",
        "# testフォルダのファイル一覧を取得（変更しないでください）\n",
        "test_neg_files = glob.glob(\"./aclImdb/test/neg/*\")\n",
        "test_pos_files = glob.glob(\"./aclImdb/test/pos/*\")"
      ]
    },
    {
      "cell_type": "code",
      "execution_count": null,
      "metadata": {
        "id": "AwILbT3E3uRu"
      },
      "outputs": [],
      "source": [
        "# それぞれのファイル数を確認\n"
      ]
    },
    {
      "cell_type": "markdown",
      "metadata": {
        "id": "qOezW34ZJfwA"
      },
      "source": [
        "前処理をするため、合計50000あるファイルをリストにまとめます。"
      ]
    },
    {
      "cell_type": "code",
      "execution_count": null,
      "metadata": {
        "id": "8PJps6pk5xP1"
      },
      "outputs": [],
      "source": [
        "# ファイル名をまとめたリストを用意（変更しないでください）\n",
        "filenames = train_neg_files + train_pos_files + test_neg_files + test_pos_files\n",
        "\n",
        "# filenamesの長さを確認（変更しないでください）\n",
        "len(filenames)"
      ]
    },
    {
      "cell_type": "markdown",
      "metadata": {
        "id": "mOVm-xBvJuQd"
      },
      "source": [
        "リストの最初と最後のファイルを確認してみます。"
      ]
    },
    {
      "cell_type": "code",
      "execution_count": null,
      "metadata": {
        "id": "D10DLJRv5y2d"
      },
      "outputs": [],
      "source": [
        "# エンコーディング用定数（変更しないでください）\n",
        "ENCODING = 'utf-8'"
      ]
    },
    {
      "cell_type": "code",
      "execution_count": null,
      "metadata": {
        "id": "tR1blqz-6ytX"
      },
      "outputs": [],
      "source": [
        "# 最初のファイルの内容を確認\n"
      ]
    },
    {
      "cell_type": "code",
      "execution_count": null,
      "metadata": {
        "id": "KrvFZOcc62RQ"
      },
      "outputs": [],
      "source": [
        "# 最後のファイルの内容を確認\n"
      ]
    },
    {
      "cell_type": "markdown",
      "metadata": {
        "id": "p1MSLkqD9o_i"
      },
      "source": [
        "## 3. データの前処理\n",
        "\n",
        "データの前処理として、形態素解析と行列への変換を行ないます。"
      ]
    },
    {
      "cell_type": "markdown",
      "metadata": {
        "id": "0iir0OFu_Xu1"
      },
      "source": [
        "### 形態素解析"
      ]
    },
    {
      "cell_type": "code",
      "execution_count": null,
      "metadata": {
        "id": "Wai2oEG39jF8"
      },
      "outputs": [],
      "source": [
        "# 文字列の中で使われている単語ごとの数を返す関数を作成\n",
        "#（レッスン本編の内容を確認して、下記にコードを追記してください）\n"
      ]
    },
    {
      "cell_type": "code",
      "execution_count": null,
      "metadata": {
        "id": "5BmIbEf699gs"
      },
      "outputs": [],
      "source": [
        "# 最初のファイルを使って、先ほど作成した関数をテスト\n"
      ]
    },
    {
      "cell_type": "code",
      "execution_count": null,
      "metadata": {
        "id": "Sze6ofim-OTR"
      },
      "outputs": [],
      "source": [
        "# 単語ごとの数のリストを作成（変更しないでください）\n",
        "word_count_data = []"
      ]
    },
    {
      "cell_type": "code",
      "execution_count": null,
      "metadata": {
        "id": "bN54gjEh-QKj"
      },
      "outputs": [],
      "source": [
        "# すべてのファイルに対して、先ほど作成した関数を実行\n"
      ]
    },
    {
      "cell_type": "code",
      "execution_count": null,
      "metadata": {
        "id": "BIIkPnNL-gQP"
      },
      "outputs": [],
      "source": [
        "# 単語ごとの数のリストの長さを確認\n"
      ]
    },
    {
      "cell_type": "code",
      "execution_count": null,
      "metadata": {
        "id": "DZGy0O5F-gje"
      },
      "outputs": [],
      "source": [
        "# 単語ごとの数のリストの0番目を表示\n"
      ]
    },
    {
      "cell_type": "markdown",
      "metadata": {
        "id": "T8NZjYT0_aLX"
      },
      "source": [
        "### 行列への変換"
      ]
    },
    {
      "cell_type": "code",
      "execution_count": null,
      "metadata": {
        "id": "LTWbRq4T_bNO"
      },
      "outputs": [],
      "source": [
        "# DictVectorizerを使用して行列に変換し、datasetに格納する\n"
      ]
    },
    {
      "cell_type": "code",
      "execution_count": null,
      "metadata": {
        "id": "jeeGumr4_fT5"
      },
      "outputs": [],
      "source": [
        "# datasetの大きさを確認\n"
      ]
    },
    {
      "cell_type": "code",
      "execution_count": null,
      "metadata": {
        "id": "kCvgn5UW_i2Y"
      },
      "outputs": [],
      "source": [
        "# 各列に対応した単語を取得\n"
      ]
    },
    {
      "cell_type": "markdown",
      "metadata": {
        "id": "8nc7Xp8D_xC2"
      },
      "source": [
        "## 4. 機械学習の実施"
      ]
    },
    {
      "cell_type": "code",
      "execution_count": null,
      "metadata": {
        "id": "JoLhZFvz_mSo"
      },
      "outputs": [],
      "source": [
        "# 必要なライブラリの追加import（変更しないでください）\n",
        "from sklearn.linear_model import LogisticRegression\n",
        "from sklearn.model_selection import train_test_split\n",
        "from sklearn.metrics import classification_report"
      ]
    },
    {
      "cell_type": "markdown",
      "metadata": {
        "id": "_f5_xO8_KDje"
      },
      "source": [
        "目的変数と説明変数を用意します。"
      ]
    },
    {
      "cell_type": "code",
      "execution_count": null,
      "metadata": {
        "id": "le7zEl0BIxWr"
      },
      "outputs": [],
      "source": [
        "# 目的変数Yの用意\n",
        "# neg12500 + pos12500 + neg12500 + pos12500 = 50000\n"
      ]
    },
    {
      "cell_type": "code",
      "execution_count": null,
      "metadata": {
        "id": "Jsy8g6L2JHdo"
      },
      "outputs": [],
      "source": [
        "# 上記のY、および前処理されたdatasetからデータを分割し、\n",
        "# X_train, Y_train, X_test, Y_testに格納する\n",
        "#\n",
        "# 詳細：\n",
        "#   - dataset の先頭から25000件を 変数 X_train に、残りを変数 X_test に代入\n",
        "#   - 目的変数 Y の先頭から25000件を 変数 Y_train に、残りを Y_test に代入\n"
      ]
    },
    {
      "cell_type": "code",
      "execution_count": null,
      "metadata": {
        "id": "Z437TWo0Ky5w"
      },
      "outputs": [],
      "source": [
        "# X_trainとY_trainを、train_test_splitで7:3に分割し、3割のほうを検証データ（X_valid, Y_valid）にする\n"
      ]
    },
    {
      "cell_type": "code",
      "execution_count": null,
      "metadata": {
        "id": "c31t4guALPTO"
      },
      "outputs": [],
      "source": [
        "# ロジスティック回帰モデルを作成し、学習して、検証データによる予測を実施する\n",
        "\n",
        "\n",
        "# classification_reportを実行し、検証データによるモデルの評価を行なう\n"
      ]
    },
    {
      "cell_type": "markdown",
      "metadata": {
        "id": "0aiRUHbnM3Ac"
      },
      "source": [
        "## 5. テストデータによる評価\n",
        "\n",
        "最後に、テストデータで評価を行ないましょう。"
      ]
    },
    {
      "cell_type": "code",
      "execution_count": null,
      "metadata": {
        "id": "kpHmZx8pM3V7"
      },
      "outputs": [],
      "source": [
        "# テストデータで予測を実施する\n",
        "\n",
        "\n",
        "# classification_reportを実行し、テストデータによるモデルの評価を行なう\n"
      ]
    }
  ],
  "metadata": {
    "colab": {
      "provenance": []
    },
    "kernelspec": {
      "display_name": ".venv",
      "language": "python",
      "name": "python3"
    },
    "language_info": {
      "codemirror_mode": {
        "name": "ipython",
        "version": 3
      },
      "file_extension": ".py",
      "mimetype": "text/x-python",
      "name": "python",
      "nbconvert_exporter": "python",
      "pygments_lexer": "ipython3",
      "version": "3.12.10"
    }
  },
  "nbformat": 4,
  "nbformat_minor": 0
}
