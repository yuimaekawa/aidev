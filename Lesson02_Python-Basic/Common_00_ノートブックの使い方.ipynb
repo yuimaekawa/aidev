{
  "cells": [
    {
      "cell_type": "markdown",
      "metadata": {
        "id": "JauHwGFezVAX"
      },
      "source": [
        "## セルの種類\n",
        "\n",
        "### テキストセル\n",
        "\n",
        "Markdown記法を使って、説明などの文章を書くために使います。\n",
        "\n",
        "このセルもテキストセルです。"
      ]
    },
    {
      "cell_type": "markdown",
      "metadata": {
        "id": "dzcmvr7Bh_rY"
      },
      "source": []
    },
    {
      "cell_type": "code",
      "execution_count": null,
      "metadata": {
        "id": "PhgUI_VciAIR"
      },
      "outputs": [],
      "source": []
    },
    {
      "cell_type": "markdown",
      "metadata": {
        "id": "cGbworpD_54c"
      },
      "source": [
        "### コードセル\n",
        "\n",
        "実行したいプログラムのコードを記述します。「セルを実行」することで、セル内に記載したコードが実行されます。\n",
        "\n",
        "このセルのすぐ下にあるセルがコードセルです。そのコードセルを実行すると、コードセルの下に「Hello, world!」と表示されます。"
      ]
    },
    {
      "cell_type": "code",
      "execution_count": null,
      "metadata": {
        "colab": {
          "base_uri": "https://localhost:8080/"
        },
        "id": "xnexMgc3s6Hx",
        "outputId": "57da645c-605d-4578-f9da-86ad2253dc6a"
      },
      "outputs": [],
      "source": [
        "print(\"Hello, world!\")"
      ]
    },
    {
      "cell_type": "markdown",
      "metadata": {
        "id": "z-PzyMERL6o7"
      },
      "source": [
        "## Playground\n",
        "\n",
        "以下のスペースは自由に使えるスペースとします。セルの追加・移動・削除などを試してみてください。"
      ]
    },
    {
      "cell_type": "markdown",
      "metadata": {
        "id": "QcTUKSIvMjou"
      },
      "source": []
    }
  ],
  "metadata": {
    "colab": {
      "provenance": []
    },
    "kernelspec": {
      "display_name": ".venv",
      "language": "python",
      "name": "python3"
    },
    "language_info": {
      "codemirror_mode": {
        "name": "ipython",
        "version": 3
      },
      "file_extension": ".py",
      "mimetype": "text/x-python",
      "name": "python",
      "nbconvert_exporter": "python",
      "pygments_lexer": "ipython3",
      "version": "3.12.10"
    }
  },
  "nbformat": 4,
  "nbformat_minor": 0
}
