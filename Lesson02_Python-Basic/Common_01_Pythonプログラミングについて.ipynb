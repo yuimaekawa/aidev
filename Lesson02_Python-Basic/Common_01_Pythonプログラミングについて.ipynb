{
  "cells": [
    {
      "cell_type": "markdown",
      "metadata": {
        "id": "fiaSg5_XOTRi"
      },
      "source": [
        "### Pythonを実行する方法1: REPLを使う"
      ]
    },
    {
      "cell_type": "markdown",
      "metadata": {
        "id": "pOQ6dEFbOgtQ"
      },
      "source": [
        "公式のオンラインREPLを利用する\n",
        "\n",
        "[Python Shell](https://www.python.org/shell/)"
      ]
    },
    {
      "cell_type": "markdown",
      "metadata": {
        "id": "gAJnVAnsOn-R"
      },
      "source": [
        "### Pythonを実行する方法2: 「.pyファイル」を作る"
      ]
    },
    {
      "cell_type": "markdown",
      "metadata": {},
      "source": [
        "（1）`example.py` ファイルを作成し、エディターで以下のコードを入力、保存します。\n",
        "\n",
        "```python\n",
        "print(\"Hello, world!\")\n",
        "```\n",
        "\n",
        "![](https://techacademy.s3.ap-northeast-1.amazonaws.com/bootcamp/python/202503/overview/py_01.png)\n",
        "\n",
        "（2）「表示」メニューから「ターミナル」を選択します。`(.venv)... pythondev > ` のように表示されていることを確認します。\n",
        "\n",
        "![](https://techacademy.s3.ap-northeast-1.amazonaws.com/bootcamp/python/202503/overview/py_03.png)\n",
        "\n",
        "表示されていない場合は、以下のコマンドを入力します。\n",
        "\n",
        "- Macの方\n",
        "\n",
        "```bash\n",
        ". .venv/bin/activate\n",
        "```\n",
        "\n",
        "- Windowsの方\n",
        "\n",
        "```bash\n",
        ".venv/Scripts/activate\n",
        "```\n",
        "\n",
        "（3）ターミナルで以下のコマンドを実行します。\n",
        "\n",
        "```sh\n",
        "python example.py\n",
        "```\n",
        "\n",
        "\"Hello, world!\"と表示されたはずです。\n",
        "\n",
        "![](https://techacademy.s3.ap-northeast-1.amazonaws.com/bootcamp/python/202503/overview/py_04.png)\n"
      ]
    },
    {
      "cell_type": "markdown",
      "metadata": {
        "id": "gxwkdM2fR9v9"
      },
      "source": [
        "### Pythonを実行する方法3: Jupyter Notebookを使う"
      ]
    },
    {
      "cell_type": "code",
      "execution_count": null,
      "metadata": {
        "colab": {
          "base_uri": "https://localhost:8080/"
        },
        "id": "ahtR-d2UR-WP",
        "outputId": "e44c43de-34b1-4521-a2d7-8e14561b3e48"
      },
      "outputs": [],
      "source": [
        "print(\"Hello, world!\")"
      ]
    }
  ],
  "metadata": {
    "colab": {
      "provenance": []
    },
    "kernelspec": {
      "display_name": ".venv",
      "language": "python",
      "name": "python3"
    },
    "language_info": {
      "codemirror_mode": {
        "name": "ipython",
        "version": 3
      },
      "file_extension": ".py",
      "mimetype": "text/x-python",
      "name": "python",
      "nbconvert_exporter": "python",
      "pygments_lexer": "ipython3",
      "version": "3.12.10"
    }
  },
  "nbformat": 4,
  "nbformat_minor": 0
}
