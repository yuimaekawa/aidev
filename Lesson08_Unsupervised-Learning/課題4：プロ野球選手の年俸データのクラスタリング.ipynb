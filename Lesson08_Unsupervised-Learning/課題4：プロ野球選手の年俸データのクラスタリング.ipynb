{
  "cells": [
    {
      "cell_type": "markdown",
      "metadata": {
        "id": "2kEtx2Y4Ywzg"
      },
      "source": [
        "# 課題4: プロ野球選手の年俸データのクラスタリング\n",
        "\n",
        "ここでは、k-means法を利用したクラスタリングの理解を深めて頂くための課題を用意しました。Lesson6で使用したプロ野球選手の推定年俸のデータを使い、クラスタリングを行ってください。なお、クラスタリングはデータを正規化したうえで行ないます。\n",
        "\n",
        "わからない場合は、ここまでのレッスン内容や各種ライブラリの公式ドキュメントを参照しましょう。"
      ]
    },
    {
      "cell_type": "markdown",
      "metadata": {
        "id": "7wZdJ7yCZr8g"
      },
      "source": [
        "## 1. ライブラリのimport"
      ]
    },
    {
      "cell_type": "code",
      "execution_count": 1,
      "metadata": {
        "id": "juK8xWLIYtZ7"
      },
      "outputs": [],
      "source": [
        "# （変更しないでください）\n",
        "\n",
        "# 必要なライブラリのimport\n",
        "import numpy as np\n",
        "import matplotlib.pyplot as plt\n",
        "import seaborn as sns\n",
        "import pandas as pd\n",
        "\n",
        "# データの正規化\n",
        "from sklearn.preprocessing import MinMaxScaler\n",
        "\n",
        "# k-means法\n",
        "from sklearn.cluster import KMeans\n",
        "\n",
        "# シルエットプロット\n",
        "from sklearn.metrics import silhouette_score, silhouette_samples\n",
        "\n",
        "# DataFrameですべての列を表示する設定\n",
        "pd.options.display.max_columns = None\n",
        "\n",
        "# seabornによる装飾を適用する\n",
        "sns.set_theme()"
      ]
    },
    {
      "cell_type": "markdown",
      "metadata": {
        "id": "9B48ZIWxaC_Q"
      },
      "source": [
        "## 2. データの読み込み\n",
        "\n",
        "CSVファイル *baseball_salary.csv* を読み込み、dataset_baseに格納します。"
      ]
    },
    {
      "cell_type": "code",
      "execution_count": null,
      "metadata": {
        "id": "qIsF8nupYy_d"
      },
      "outputs": [],
      "source": [
        "# CSVファイルを読み込んでdataset_baseに格納する\n"
      ]
    },
    {
      "cell_type": "code",
      "execution_count": null,
      "metadata": {
        "id": "p_sj8SkMalI9"
      },
      "outputs": [],
      "source": [
        "# dataset_baseの最初の5行を表示\n"
      ]
    },
    {
      "cell_type": "code",
      "execution_count": null,
      "metadata": {
        "id": "nQ32Ubeqalba"
      },
      "outputs": [],
      "source": [
        "# dataset_baseから「打率、打点」列を抜き出してdatasetに格納する\n",
        "\n",
        "\n",
        "# 列名を、打率は「batting」、打点は「points」にリネームする\n",
        "\n",
        "\n",
        "# datasetの先頭の5行を表示\n"
      ]
    },
    {
      "cell_type": "markdown",
      "metadata": {
        "id": "XFLVPV-GavN_"
      },
      "source": [
        "## 3. データの正規化\n",
        "\n",
        "クラスタリングは類似度（距離）に基づいて行なわれるため、データの範囲に差がある場合は正規化を行ないます。\n",
        "\n",
        "ここでは、Lesson5のデータの前処理で紹介した *Min-max normalization* を使ってみましょう。 `sklearn.preprocessing.MinMaxScaler()` を利用します。\n",
        "\n",
        "参考：https://scikit-learn.org/stable/modules/generated/sklearn.preprocessing.MinMaxScaler.html"
      ]
    },
    {
      "cell_type": "code",
      "execution_count": null,
      "metadata": {
        "id": "tnwfd2rXavgi"
      },
      "outputs": [],
      "source": [
        "# MinMaxScalerで正規化を実施し、その結果を変数tempに格納する\n"
      ]
    },
    {
      "cell_type": "code",
      "execution_count": null,
      "metadata": {
        "id": "7VNjJBZ1a_q_"
      },
      "outputs": [],
      "source": [
        "# 正規化後のデータの先頭の5行を表示\n"
      ]
    },
    {
      "cell_type": "code",
      "execution_count": null,
      "metadata": {
        "id": "17H1z4EebEnv"
      },
      "outputs": [],
      "source": [
        "# tempの0列目を「batting_scaled」、1列目を「points_scaled」という列名にして、datasetへ列として追加\n"
      ]
    },
    {
      "cell_type": "code",
      "execution_count": null,
      "metadata": {
        "id": "3UuiQ8KEbSU5"
      },
      "outputs": [],
      "source": [
        "# 改めてdatasetの先頭の5行を表示\n"
      ]
    },
    {
      "cell_type": "markdown",
      "metadata": {
        "id": "SzZ6MSeIbZTq"
      },
      "source": [
        "## 4. データの可視化"
      ]
    },
    {
      "cell_type": "code",
      "execution_count": null,
      "metadata": {
        "id": "nbNS1bEebYqa"
      },
      "outputs": [],
      "source": [
        "# 正規化後の打率と打点の散布図を描画する\n"
      ]
    },
    {
      "cell_type": "markdown",
      "metadata": {
        "id": "rgPv6tmgeLvr"
      },
      "source": [
        "## 5. クラスター数の決定\n",
        "\n",
        "エルボーメソッドとシルエットプロットを使用してクラスター数を決定しましょう"
      ]
    },
    {
      "cell_type": "markdown",
      "metadata": {
        "id": "tVGiH6FseO3Q"
      },
      "source": [
        "### クラスタリングを行なうデータの抽出"
      ]
    },
    {
      "cell_type": "code",
      "execution_count": null,
      "metadata": {
        "id": "9simaUlUeMsL"
      },
      "outputs": [],
      "source": [
        "# datasetからbatting_scaledとpoints_scaledを取り出して、numpy配列に変換してXに格納する\n",
        "\n",
        "\n",
        "# Xの形状を確認\n"
      ]
    },
    {
      "cell_type": "markdown",
      "metadata": {
        "id": "V0WAt4jJecWl"
      },
      "source": [
        "### エルボーメソッド"
      ]
    },
    {
      "cell_type": "code",
      "execution_count": null,
      "metadata": {
        "id": "BN41wtsMebRt"
      },
      "outputs": [],
      "source": [
        "# 最大クラスター数を10として、クラスター数1から10までのWCSS値を算出（変更しないでください）\n",
        "wcss = []\n",
        "c_list = np.arange(1, 11)"
      ]
    },
    {
      "cell_type": "code",
      "execution_count": null,
      "metadata": {
        "id": "EImsjeWierQC"
      },
      "outputs": [],
      "source": [
        "# クラスタ数の算出\n"
      ]
    },
    {
      "cell_type": "code",
      "execution_count": null,
      "metadata": {
        "id": "x-JaKUXre025"
      },
      "outputs": [],
      "source": [
        "# WCSSの表示（変更しないでください）\n",
        "wcss"
      ]
    },
    {
      "cell_type": "code",
      "execution_count": null,
      "metadata": {
        "id": "IQ5MGM6be8zQ"
      },
      "outputs": [],
      "source": [
        "# エルボーメソッドのグラフの表示\n"
      ]
    },
    {
      "cell_type": "markdown",
      "metadata": {
        "id": "xqGHVBvrfJs8"
      },
      "source": [
        "### シルエットプロット"
      ]
    },
    {
      "cell_type": "code",
      "execution_count": null,
      "metadata": {
        "id": "0CxGvARkfJRC"
      },
      "outputs": [],
      "source": [
        "# クラスタ数を6に指定（変更しないでください）\n",
        "cluster_no = 6"
      ]
    },
    {
      "cell_type": "code",
      "execution_count": null,
      "metadata": {
        "id": "g7urFyVkfNm0"
      },
      "outputs": [],
      "source": [
        "# クラスタリングのモデルを作成し、学習して、クラスタ番号を取得\n"
      ]
    },
    {
      "cell_type": "code",
      "execution_count": null,
      "metadata": {
        "id": "yAyhBx_yupbC"
      },
      "outputs": [],
      "source": [
        "# シルエットスコアの平均値\n",
        "\n",
        "\n",
        "# 各データのシルエットスコア\n"
      ]
    },
    {
      "cell_type": "code",
      "execution_count": null,
      "metadata": {
        "id": "pPEMpbZDuxCS"
      },
      "outputs": [],
      "source": [
        "# シルエットプロットを描画\n"
      ]
    },
    {
      "cell_type": "markdown",
      "metadata": {
        "id": "W7xBUAy5vJcf"
      },
      "source": [
        "## 6. 結果の確認\n",
        "\n",
        "上記の結果をもとに、クラスタ数6で再度クラスタリングを実行し、分類ごとに色を分けて散布図にプロットしましょう。"
      ]
    },
    {
      "cell_type": "code",
      "execution_count": null,
      "metadata": {
        "id": "iqKt5ni6vE99"
      },
      "outputs": [],
      "source": [
        "# クラスタ数を6に指定（変更しないでください）\n",
        "cluster_no = 6\n",
        "\n",
        "# クラスタリングのモデルを作成し、学習して、クラスタ番号を取得\n"
      ]
    },
    {
      "cell_type": "code",
      "execution_count": null,
      "metadata": {
        "id": "cY7pOOjSvIAp"
      },
      "outputs": [],
      "source": [
        "# k-means法によるクラスタリングの結果を描画\n"
      ]
    }
  ],
  "metadata": {
    "colab": {
      "provenance": []
    },
    "kernelspec": {
      "display_name": ".venv",
      "language": "python",
      "name": "python3"
    },
    "language_info": {
      "codemirror_mode": {
        "name": "ipython",
        "version": 3
      },
      "file_extension": ".py",
      "mimetype": "text/x-python",
      "name": "python",
      "nbconvert_exporter": "python",
      "pygments_lexer": "ipython3",
      "version": "3.12.10"
    }
  },
  "nbformat": 4,
  "nbformat_minor": 0
}
